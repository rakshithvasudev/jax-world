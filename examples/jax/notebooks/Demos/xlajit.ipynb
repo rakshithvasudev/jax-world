{
 "cells": [
  {
   "cell_type": "markdown",
   "id": "f36e4df4-dcea-48ec-a013-3169fc4b1144",
   "metadata": {},
   "source": [
    "# Speed!\n",
    "XLA is the backend that backs Tensorflow, also backs pytorch when using TPUs. FAST!"
   ]
  },
  {
   "cell_type": "code",
   "execution_count": 1,
   "id": "9ee36650-27b8-4652-bea4-21155b72584e",
   "metadata": {},
   "outputs": [],
   "source": [
    "from jax import jit\n",
    "import jax.numpy as jnp\n",
    "from jax import random"
   ]
  },
  {
   "cell_type": "code",
   "execution_count": 2,
   "id": "98b513b0-2294-41f7-928a-1671f38c7fa1",
   "metadata": {},
   "outputs": [],
   "source": [
    "key = random.PRNGKey(0)\n",
    "x = random.normal(key, (5000, 5000))"
   ]
  },
  {
   "cell_type": "code",
   "execution_count": 3,
   "id": "10738c21-6c55-4c61-8a0c-565b42d5b08e",
   "metadata": {},
   "outputs": [
    {
     "data": {
      "text/plain": [
       "DeviceArray([[19.498985, 19.82703 , 19.105713, ..., 20.288704, 19.505972,\n",
       "              18.800804],\n",
       "             [20.183136, 19.432299, 19.18563 , ..., 19.554996, 18.913944,\n",
       "              19.772003],\n",
       "             [19.303692, 19.688906, 19.3761  , ..., 19.901508, 19.094027,\n",
       "              19.131971],\n",
       "             ...,\n",
       "             [19.463682, 19.39614 , 19.29148 , ..., 19.64818 , 20.130577,\n",
       "              19.868395],\n",
       "             [19.425179, 19.687124, 19.9568  , ..., 19.83506 , 19.73038 ,\n",
       "              19.514133],\n",
       "             [19.437508, 19.607405, 19.633265, ..., 19.108871, 20.188248,\n",
       "              19.94832 ]], dtype=float32)"
      ]
     },
     "execution_count": 3,
     "metadata": {},
     "output_type": "execute_result"
    }
   ],
   "source": [
    "def f(x):\n",
    "    y = x\n",
    "    for _ in range(10):\n",
    "        y = y - 0.1 * y + 3.\n",
    "    return y[:100, :100]\n",
    "\n",
    "f(x)"
   ]
  },
  {
   "cell_type": "code",
   "execution_count": 4,
   "id": "3b93b220-3dea-4abd-8f8c-140387b4a962",
   "metadata": {},
   "outputs": [
    {
     "data": {
      "text/plain": [
       "DeviceArray([[19.498985, 19.82703 , 19.105713, ..., 20.288704, 19.505972,\n",
       "              18.800804],\n",
       "             [20.183136, 19.432299, 19.18563 , ..., 19.554996, 18.913944,\n",
       "              19.772003],\n",
       "             [19.303692, 19.688906, 19.3761  , ..., 19.901508, 19.094027,\n",
       "              19.131971],\n",
       "             ...,\n",
       "             [19.463682, 19.39614 , 19.29148 , ..., 19.64818 , 20.130577,\n",
       "              19.868395],\n",
       "             [19.425179, 19.687124, 19.9568  , ..., 19.83506 , 19.73038 ,\n",
       "              19.514133],\n",
       "             [19.437508, 19.607405, 19.633265, ..., 19.108871, 20.188248,\n",
       "              19.94832 ]], dtype=float32)"
      ]
     },
     "execution_count": 4,
     "metadata": {},
     "output_type": "execute_result"
    }
   ],
   "source": [
    "g = jit(f)\n",
    "g(x)"
   ]
  },
  {
   "cell_type": "markdown",
   "id": "48910efd-757b-4b58-8705-fb7c0aea146c",
   "metadata": {},
   "source": [
    "## Microbenchmarks!"
   ]
  },
  {
   "cell_type": "code",
   "execution_count": 5,
   "id": "848054f5-98c0-40ae-b384-347cfa90feb9",
   "metadata": {},
   "outputs": [
    {
     "name": "stdout",
     "output_type": "stream",
     "text": [
      "7.02 ms ± 2.17 ms per loop (mean ± std. dev. of 7 runs, 100 loops each)\n"
     ]
    }
   ],
   "source": [
    "%timeit f(x).block_until_ready()"
   ]
  },
  {
   "cell_type": "code",
   "execution_count": 6,
   "id": "be40fd14-0ac3-4ee4-a227-bd2a5e7e2631",
   "metadata": {},
   "outputs": [
    {
     "name": "stdout",
     "output_type": "stream",
     "text": [
      "33.9 µs ± 1.48 µs per loop (mean ± std. dev. of 7 runs, 100 loops each)\n"
     ]
    }
   ],
   "source": [
    "%timeit -n 100 g(x).block_until_ready()"
   ]
  },
  {
   "cell_type": "code",
   "execution_count": 7,
   "id": "4da764f1-6cc1-4759-97f7-af5d745050ee",
   "metadata": {},
   "outputs": [
    {
     "data": {
      "text/plain": [
       "DeviceArray(0.6216267, dtype=float32)"
      ]
     },
     "execution_count": 7,
     "metadata": {},
     "output_type": "execute_result"
    }
   ],
   "source": [
    "from jax import grad\n",
    "\n",
    "grad(jit(grad(jit(grad(jnp.tanh)))))(1.0)"
   ]
  },
  {
   "cell_type": "code",
   "execution_count": 9,
   "id": "54e8a123-0965-4bdf-9d86-e1c019ce302b",
   "metadata": {},
   "outputs": [
    {
     "name": "stdout",
     "output_type": "stream",
     "text": [
      "76 ms ± 208 µs per loop (mean ± std. dev. of 7 runs, 10 loops each)\n"
     ]
    }
   ],
   "source": [
    "%timeit grad(jit(grad(jit(grad(jnp.tanh)))))(1.0).block_until_ready()"
   ]
  },
  {
   "cell_type": "markdown",
   "id": "b7bbb483-8e75-4450-a7bc-4fb652e8c575",
   "metadata": {},
   "source": [
    "https://github.com/google/jax/blob/main/cloud_tpu_colabs/JAX_NeurIPS_2020_demo.ipynb"
   ]
  },
  {
   "cell_type": "code",
   "execution_count": null,
   "id": "465589bd-d73c-4b9f-b2e2-dbe3e7558476",
   "metadata": {},
   "outputs": [],
   "source": []
  }
 ],
 "metadata": {
  "kernelspec": {
   "display_name": "Python 3 (ipykernel)",
   "language": "python",
   "name": "python3"
  },
  "language_info": {
   "codemirror_mode": {
    "name": "ipython",
    "version": 3
   },
   "file_extension": ".py",
   "mimetype": "text/x-python",
   "name": "python",
   "nbconvert_exporter": "python",
   "pygments_lexer": "ipython3",
   "version": "3.8.10"
  }
 },
 "nbformat": 4,
 "nbformat_minor": 5
}
