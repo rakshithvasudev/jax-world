{
 "cells": [
  {
   "cell_type": "markdown",
   "id": "fabc2a5b-b1f1-4b24-993c-dd7ee4a127d0",
   "metadata": {},
   "source": [
    "# SPMD programming with pmap\n"
   ]
  },
  {
   "cell_type": "markdown",
   "id": "b530694c-53fc-4aba-8cd3-eb5b9be07697",
   "metadata": {},
   "source": [
    "For parallel programming of multiple accelerators, like multiple GPUs, use pmap. With pmap you write single-program multiple-data (SPMD) programs, including fast parallel collective communication operations. Applying pmap will mean that the function you write is compiled by XLA (similarly to jit), then replicated and executed in parallel across devices.\n",
    "\n",
    "https://github.com/mpi4jax/mpi4jax\n",
    "\n",
    "mpi4jax enables zero-copy, multi-host communication of JAX arrays, even from jitted code and from GPU memory.\n"
   ]
  },
  {
   "cell_type": "code",
   "execution_count": 1,
   "id": "42fb47e6-5c00-4ed9-af93-da8b70cf36ce",
   "metadata": {},
   "outputs": [],
   "source": [
    "import jax"
   ]
  },
  {
   "cell_type": "code",
   "execution_count": 2,
   "id": "abf835e6-0cb3-48fa-a952-434cd414319d",
   "metadata": {},
   "outputs": [
    {
     "data": {
      "text/plain": [
       "4"
      ]
     },
     "execution_count": 2,
     "metadata": {},
     "output_type": "execute_result"
    }
   ],
   "source": [
    "jax.device_count()"
   ]
  },
  {
   "cell_type": "code",
   "execution_count": 4,
   "id": "5a17752a-f7bf-45aa-9bd3-f64760cac8e2",
   "metadata": {},
   "outputs": [
    {
     "data": {
      "text/plain": [
       "4"
      ]
     },
     "execution_count": 4,
     "metadata": {},
     "output_type": "execute_result"
    }
   ],
   "source": [
    "jax.local_device_count()"
   ]
  },
  {
   "cell_type": "markdown",
   "id": "7d9949c1-65f9-4b79-b584-85a06667d1d1",
   "metadata": {},
   "source": [
    "## The psum is performed over all mapped devices across the pod slice (Node)"
   ]
  },
  {
   "cell_type": "code",
   "execution_count": 5,
   "id": "13550f2f-cb3a-4130-a099-881259dc443b",
   "metadata": {},
   "outputs": [],
   "source": [
    "xs = jax.numpy.ones(jax.local_device_count())"
   ]
  },
  {
   "cell_type": "code",
   "execution_count": null,
   "id": "a0d39bcf-9067-42c2-bf5f-3aa0b37b5aa5",
   "metadata": {},
   "outputs": [],
   "source": [
    "jax.pmap(lambda x: jax.lax.psum(x, 'i'), axis_name='i')(xs)"
   ]
  },
  {
   "cell_type": "code",
   "execution_count": null,
   "id": "ad479a19-34fe-4eea-aac4-10341e0da6fc",
   "metadata": {},
   "outputs": [],
   "source": []
  }
 ],
 "metadata": {
  "kernelspec": {
   "display_name": "Python 3 (ipykernel)",
   "language": "python",
   "name": "python3"
  },
  "language_info": {
   "codemirror_mode": {
    "name": "ipython",
    "version": 3
   },
   "file_extension": ".py",
   "mimetype": "text/x-python",
   "name": "python",
   "nbconvert_exporter": "python",
   "pygments_lexer": "ipython3",
   "version": "3.8.10"
  }
 },
 "nbformat": 4,
 "nbformat_minor": 5
}
