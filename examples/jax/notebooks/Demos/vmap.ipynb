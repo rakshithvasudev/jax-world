{
 "cells": [
  {
   "cell_type": "markdown",
   "id": "44a1f20b-3e8f-431a-9fa3-922e290be9f2",
   "metadata": {},
   "source": [
    "# Vmap - write code for one sample point (datum), automatically batch it!\n",
    "This is what enables per sample gradient - example below"
   ]
  },
  {
   "cell_type": "code",
   "execution_count": 4,
   "id": "b23e5228-3102-4a67-bef3-6cf07b509a52",
   "metadata": {},
   "outputs": [],
   "source": [
    "import jax.numpy as jnp\n",
    "from jax import grad, jit, vmap\n",
    "from jax import random\n",
    "\n",
    "key = random.PRNGKey(0)\n"
   ]
  },
  {
   "cell_type": "code",
   "execution_count": 5,
   "id": "0b2b49b0-be7c-45fa-aafc-5e6a77223d3b",
   "metadata": {},
   "outputs": [],
   "source": [
    "mat = random.normal(key, (150, 100))\n",
    "batched_x = random.normal(key, (10, 100))\n",
    "\n",
    "def apply_matrix(v):\n",
    "    return jnp.dot(mat, v)"
   ]
  },
  {
   "cell_type": "code",
   "execution_count": 6,
   "id": "380b69e1-7b54-4eef-b5a8-bdea888b1801",
   "metadata": {},
   "outputs": [
    {
     "name": "stdout",
     "output_type": "stream",
     "text": [
      "Naively batched\n",
      "2.44 ms ± 5.37 µs per loop (mean ± std. dev. of 7 runs, 100 loops each)\n"
     ]
    }
   ],
   "source": [
    "def naively_batched_apply_matrix(v_batched):\n",
    "    return jnp.stack([apply_matrix(v) for v in v_batched])\n",
    "\n",
    "print('Naively batched')\n",
    "%timeit naively_batched_apply_matrix(batched_x).block_until_ready()"
   ]
  },
  {
   "cell_type": "code",
   "execution_count": 7,
   "id": "352deb59-adc4-4c5a-be90-ff3c4c76c781",
   "metadata": {},
   "outputs": [
    {
     "name": "stdout",
     "output_type": "stream",
     "text": [
      "Manually batched\n",
      "54.7 µs ± 6.82 µs per loop (mean ± std. dev. of 7 runs, 1 loop each)\n"
     ]
    }
   ],
   "source": [
    "@jit\n",
    "def batched_apply_matrix(v_batched):\n",
    "    return jnp.dot(v_batched, mat.T)\n",
    "\n",
    "print('Manually batched')\n",
    "%timeit batched_apply_matrix(batched_x).block_until_ready()"
   ]
  },
  {
   "cell_type": "code",
   "execution_count": 8,
   "id": "a9539773-db78-483b-8e45-96f44c27080a",
   "metadata": {},
   "outputs": [
    {
     "name": "stdout",
     "output_type": "stream",
     "text": [
      "Auto-vectorized with vmap\n",
      "35 µs ± 533 ns per loop (mean ± std. dev. of 7 runs, 10000 loops each)\n"
     ]
    }
   ],
   "source": [
    "@jit\n",
    "def vmap_batched_apply_matrix(v_batched):\n",
    "    return vmap(apply_matrix)(v_batched)\n",
    "\n",
    "print('Auto-vectorized with vmap')\n",
    "%timeit vmap_batched_apply_matrix(batched_x).block_until_ready()"
   ]
  },
  {
   "cell_type": "markdown",
   "id": "62f6e448-08c5-48da-952c-5dd936e8b770",
   "metadata": {},
   "source": [
    "# Deep learning per sample gradients"
   ]
  },
  {
   "cell_type": "code",
   "execution_count": 9,
   "id": "a41ce610-164d-45dc-a173-14350a8d1b49",
   "metadata": {},
   "outputs": [],
   "source": [
    "def predict(params, inputs):\n",
    "    for W, b in params:\n",
    "        outputs = jnp.dot(inputs, W) + b\n",
    "        inputs = jnp.tanh(outputs)  # inputs to the next layer\n",
    "    return outputs "
   ]
  },
  {
   "cell_type": "code",
   "execution_count": 10,
   "id": "faa4f4fe-3401-47a3-abcd-4032766bc383",
   "metadata": {},
   "outputs": [],
   "source": [
    "def loss(params, inputs, targets):\n",
    "    preds = predict(params, inputs)\n",
    "    return jnp.sum((preds - targets)**2)"
   ]
  },
  {
   "cell_type": "code",
   "execution_count": 12,
   "id": "3a732993-1236-455f-97ae-1d8963db70c6",
   "metadata": {},
   "outputs": [],
   "source": [
    "grad_loss = jit(grad(loss))  # compiled gradient evaluation function"
   ]
  },
  {
   "cell_type": "code",
   "execution_count": 13,
   "id": "4ba3b174-1433-452b-a418-596001f38566",
   "metadata": {},
   "outputs": [],
   "source": [
    "perex_grads = jit(vmap(grad_loss, in_axes=(None, 0, 0)))  # fast per-example grads"
   ]
  },
  {
   "cell_type": "markdown",
   "id": "3b90d22c-5364-45a4-9818-21d10d0acc8b",
   "metadata": {},
   "source": [
    "https://jax.readthedocs.io/en/latest/notebooks/quickstart.html\n",
    "\n",
    "https://github.com/google/jax"
   ]
  },
  {
   "cell_type": "code",
   "execution_count": null,
   "id": "8f2aba2f-4472-4da3-a766-467034371747",
   "metadata": {},
   "outputs": [],
   "source": []
  }
 ],
 "metadata": {
  "kernelspec": {
   "display_name": "Python 3 (ipykernel)",
   "language": "python",
   "name": "python3"
  },
  "language_info": {
   "codemirror_mode": {
    "name": "ipython",
    "version": 3
   },
   "file_extension": ".py",
   "mimetype": "text/x-python",
   "name": "python",
   "nbconvert_exporter": "python",
   "pygments_lexer": "ipython3",
   "version": "3.8.10"
  }
 },
 "nbformat": 4,
 "nbformat_minor": 5
}
