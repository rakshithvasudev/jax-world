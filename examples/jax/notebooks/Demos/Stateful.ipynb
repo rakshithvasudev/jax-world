{
 "cells": [
  {
   "cell_type": "markdown",
   "id": "bd15e6f7-ccd2-4e1e-bc86-45dd29be6699",
   "metadata": {},
   "source": [
    "# Stateful vs Stateless Computations in JAX\n"
   ]
  },
  {
   "cell_type": "markdown",
   "id": "0e80503e-3fab-4655-a58f-5fea1d407971",
   "metadata": {},
   "source": [
    "### Summary : JAX is functional and stateless\n",
    "\n",
    "https://jax.readthedocs.io/en/latest/jax-101/07-state.html"
   ]
  },
  {
   "cell_type": "markdown",
   "id": "8bc023cb-9957-4a12-b655-0344beca34a7",
   "metadata": {
    "tags": []
   },
   "source": [
    "## In machine learning, program state most often comes in the form of:\n",
    "\n",
    "<ul>\n",
    "<li>model parameters,</li>\n",
    "<li>optimizer state, and </li>\n",
    "<li>stateful layers, such as BatchNorm.</li>\n",
    "</ul>\n"
   ]
  },
  {
   "cell_type": "code",
   "execution_count": 8,
   "id": "55a89afb-1e1f-43d1-bfa4-4f5580f84492",
   "metadata": {},
   "outputs": [
    {
     "name": "stdout",
     "output_type": "stream",
     "text": [
      "1\n",
      "2\n",
      "3\n"
     ]
    }
   ],
   "source": [
    "import jax\n",
    "import jax.numpy as jnp\n",
    "\n",
    "class Counter:\n",
    "    \"\"\"A simple counter.\"\"\"\n",
    "\n",
    "    def __init__(self):\n",
    "        self.n = 0\n",
    "\n",
    "    def count(self) -> int:\n",
    "        \"\"\"Increments the counter and returns the new value.\"\"\"\n",
    "        self.n += 1\n",
    "        return self.n\n",
    "\n",
    "    def reset(self):\n",
    "        \"\"\"Resets the counter to zero.\"\"\"\n",
    "        self.n = 0\n",
    "\n",
    "\n",
    "counter = Counter()\n",
    "\n",
    "for _ in range(3):\n",
    "    print(counter.count())"
   ]
  },
  {
   "cell_type": "code",
   "execution_count": 9,
   "id": "adf38d7c-c8b5-4464-8228-3130e4c1db96",
   "metadata": {},
   "outputs": [
    {
     "name": "stdout",
     "output_type": "stream",
     "text": [
      "1\n",
      "1\n",
      "1\n"
     ]
    }
   ],
   "source": [
    "counter.reset()\n",
    "fast_count = jax.jit(counter.count)\n",
    "\n",
    "for _ in range(3):\n",
    "    print(fast_count())"
   ]
  },
  {
   "cell_type": "markdown",
   "id": "63c5c53e-b256-4701-b60b-ce15b2ea9c17",
   "metadata": {},
   "source": [
    "`count` is only called once, when JAX compiles the method call. Moreover, since the return value doesn’t depend on the arguments to `count`, once it returns the first 1, subsequent calls to fast_count will always return 1. This won’t do. So, how do we fix it?"
   ]
  },
  {
   "cell_type": "markdown",
   "id": "8b53e54d-905a-4976-b662-bd9f1e89ae66",
   "metadata": {},
   "source": [
    "## The solution: explicit state"
   ]
  },
  {
   "cell_type": "code",
   "execution_count": 6,
   "id": "fffbb1c3-3aa9-4848-8c56-28b97731c805",
   "metadata": {},
   "outputs": [
    {
     "name": "stdout",
     "output_type": "stream",
     "text": [
      "1\n",
      "2\n",
      "3\n"
     ]
    }
   ],
   "source": [
    "from typing import Tuple\n",
    "\n",
    "CounterState = int\n",
    "\n",
    "class CounterV2:\n",
    "\n",
    "    def count(self, n: CounterState) -> Tuple[int, CounterState]:\n",
    "    # You could just return n+1, but here we separate its role as \n",
    "    # the output and as the counter state for didactic purposes.\n",
    "        return n+1, n+1\n",
    "\n",
    "    def reset(self) -> CounterState:\n",
    "        return 0\n",
    "\n",
    "counter = CounterV2()\n",
    "state = counter.reset()\n",
    "\n",
    "for _ in range(3):\n",
    "    value, state = counter.count(state)\n",
    "    print(value)"
   ]
  },
  {
   "cell_type": "markdown",
   "id": "435a136f-69de-461b-a038-e0ce69a64f69",
   "metadata": {},
   "source": [
    "In this new version of Counter, we moved n to be an argument of count, and added another return value that represents the new, updated, state. To use this counter, we now need to keep track of the state explicitly. But in return, we can now safely jax.jit this counter:"
   ]
  },
  {
   "cell_type": "markdown",
   "id": "156fb1c7-85a4-4a6f-ae68-9be9bd85d824",
   "metadata": {},
   "source": [
    "## A General Strategy"
   ]
  },
  {
   "cell_type": "markdown",
   "id": "7aea35b8-837e-481c-8387-704ea34ad505",
   "metadata": {},
   "source": [
    "class StatefulClass\n",
    "\n",
    "    state: State\n",
    "\n",
    "    def stateful_method(*args, **kwargs) -> Output:"
   ]
  },
  {
   "cell_type": "markdown",
   "id": "b2d7c4fe-8012-47f4-a4cb-e6e745d64230",
   "metadata": {},
   "source": [
    "class StatelessClass\n",
    "\n",
    "    def stateless_method(state: State, *args, **kwargs) -> (Output, State):\n"
   ]
  },
  {
   "cell_type": "markdown",
   "id": "82b3e971-1679-4796-b73c-1f70ecaf2fd9",
   "metadata": {},
   "source": [
    "This is a common functional programming pattern, and, essentially, is the way that state is handled in all JAX programs."
   ]
  },
  {
   "cell_type": "markdown",
   "id": "6f993741-bd4f-4c98-8cce-1ba4ed536409",
   "metadata": {},
   "source": [
    "## Linear Regression "
   ]
  },
  {
   "cell_type": "code",
   "execution_count": 20,
   "id": "f6cf927c-e666-4d78-be25-e470a0c9323c",
   "metadata": {},
   "outputs": [],
   "source": [
    "from typing import NamedTuple\n",
    "\n",
    "class Params(NamedTuple):\n",
    "    weight: jnp.ndarray\n",
    "    bias: jnp.ndarray\n",
    "\n",
    "\n",
    "def init(rng) -> Params:\n",
    "    \"\"\"Returns the initial model params.\"\"\"\n",
    "    weights_key, bias_key = jax.random.split(rng)\n",
    "    weight = jax.random.normal(weights_key, ())\n",
    "    bias = jax.random.normal(bias_key, ())\n",
    "    return Params(weight, bias)\n",
    "\n",
    "\n",
    "def loss(params: Params, x: jnp.ndarray, y: jnp.ndarray) -> jnp.ndarray:\n",
    "    \"\"\"Computes the least squares error of the model's predictions on x against y.\"\"\"\n",
    "    pred = params.weight * x + params.bias\n",
    "    return jnp.mean((pred - y) ** 2)\n",
    "\n",
    "\n",
    "LEARNING_RATE = 0.005\n",
    "\n",
    "@jax.jit\n",
    "def update(params: Params, x: jnp.ndarray, y: jnp.ndarray) -> Params:\n",
    "    \"\"\"Performs one SGD update step on params using the given data.\"\"\"\n",
    "    grad = jax.grad(loss)(params, x, y)\n",
    "\n",
    "    # If we were using Adam or another stateful optimizer,\n",
    "    # we would also do something like\n",
    "    # ```\n",
    "    # updates, new_optimizer_state = optimizer(grad, optimizer_state)\n",
    "    # ```\n",
    "    # and then use `updates` instead of `grad` to actually update the params.\n",
    "    # (And we'd include `new_optimizer_state` in the output, naturally.)\n",
    "\n",
    "    new_params = jax.tree_multimap(\n",
    "        lambda param, g: param - g * LEARNING_RATE, params, grad)\n",
    "\n",
    "    return new_params"
   ]
  },
  {
   "cell_type": "markdown",
   "id": "1d2a0092-8d8d-4b14-92cb-cc02312a0738",
   "metadata": {},
   "source": [
    "Notice that we manually pipe the params in and out of the update function."
   ]
  },
  {
   "cell_type": "code",
   "execution_count": 23,
   "id": "427ca53a-ce61-48c7-a80c-a3934a84cf88",
   "metadata": {},
   "outputs": [
    {
     "data": {
      "image/png": "[encoded data removed]",
      "text/plain": [
       "<Figure size 432x288 with 1 Axes>"
      ]
     },
     "metadata": {
      "needs_background": "light"
     },
     "output_type": "display_data"
    }
   ],
   "source": [
    "import matplotlib.pyplot as plt\n",
    "\n",
    "rng = jax.random.PRNGKey(42)\n",
    "\n",
    "# Generate true data from y = w*x + b + noise\n",
    "true_w, true_b = 2, -1\n",
    "x_rng, noise_rng = jax.random.split(rng)\n",
    "xs = jax.random.normal(x_rng, (128, 1))\n",
    "noise = jax.random.normal(noise_rng, (128, 1)) * 0.5\n",
    "ys = xs * true_w + true_b + noise\n",
    "\n",
    "# Fit regression\n",
    "params = init(rng)\n",
    "for _ in range(1000):\n",
    "    params = update(params, xs, ys)\n",
    "\n",
    "plt.scatter(xs, ys)\n",
    "plt.plot(xs, params.weight * xs + params.bias, c='red', label='Model Prediction')\n",
    "plt.legend();"
   ]
  },
  {
   "cell_type": "markdown",
   "id": "16e0b2c0-d954-4e6c-9058-4fabef060bd7",
   "metadata": {},
   "source": [
    "The strategy described above is how any (jitted) JAX program must handle state.\n",
    "\n",
    "Handling parameters manually seems fine if you’re dealing with two parameters, but what if it’s a neural net with dozens of layers? You might already be getting worried about two things:\n",
    "\n",
    "Are we supposed to initialize them all manually, essentially repeating what we already write in the forward pass definition?\n",
    "Are we supposed to pipe all these things around manually?\n",
    "\n",
    "The details can be tricky to handle, but there are examples of libraries that take care of this for you. See JAX Neural Network Libraries for some examples.\n",
    "\n",
    "https://github.com/google/jax#neural-network-libraries\n",
    "\n",
    "src: https://jax.readthedocs.io/en/latest/jax-101/07-state.html"
   ]
  },
  {
   "cell_type": "markdown",
   "id": "07b32355-dc8a-4b48-a580-cfdbcf35416d",
   "metadata": {},
   "source": []
  },
  {
   "cell_type": "code",
   "execution_count": null,
   "id": "01a8c0c1-b50d-4a4b-a824-eac9dd82070d",
   "metadata": {},
   "outputs": [],
   "source": []
  }
 ],
 "metadata": {
  "kernelspec": {
   "display_name": "Python 3 (ipykernel)",
   "language": "python",
   "name": "python3"
  },
  "language_info": {
   "codemirror_mode": {
    "name": "ipython",
    "version": 3
   },
   "file_extension": ".py",
   "mimetype": "text/x-python",
   "name": "python",
   "nbconvert_exporter": "python",
   "pygments_lexer": "ipython3",
   "version": "3.8.10"
  }
 },
 "nbformat": 4,
 "nbformat_minor": 5
}
