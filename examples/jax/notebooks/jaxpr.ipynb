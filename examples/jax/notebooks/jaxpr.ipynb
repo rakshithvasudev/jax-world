{
 "cells": [
  {
   "cell_type": "code",
   "execution_count": 4,
   "id": "dd79ae6b-1a32-4067-872b-bcc11234ebfc",
   "metadata": {},
   "outputs": [],
   "source": [
    "from jax import make_jaxpr\n",
    "import jax.numpy as jnp"
   ]
  },
  {
   "cell_type": "code",
   "execution_count": 5,
   "id": "6792873e-1df2-49d9-94da-f7260f876cd7",
   "metadata": {},
   "outputs": [],
   "source": [
    "def func1(first, second):\n",
    "    temp = first + jnp.sin(second) * 3.\n",
    "    return jnp.sum(temp)"
   ]
  },
  {
   "cell_type": "code",
   "execution_count": 6,
   "id": "545755b1-4881-4c13-99ca-ccf4d8deca09",
   "metadata": {},
   "outputs": [
    {
     "data": {
      "text/plain": [
       "{ lambda  ; a b.\n",
       "  let c = sin b\n",
       "      d = mul c 3.0\n",
       "      e = add a d\n",
       "      f = reduce_sum[ axes=(0,) ] e\n",
       "  in (f,) }"
      ]
     },
     "execution_count": 6,
     "metadata": {},
     "output_type": "execute_result"
    }
   ],
   "source": [
    "make_jaxpr(func1)(jnp.zeros(8), jnp.ones(8))"
   ]
  },
  {
   "cell_type": "markdown",
   "id": "aa444f75-dc4d-4ca8-afdc-96d67d97815e",
   "metadata": {},
   "source": [
    "Here there are no constvars, a and b are the input variables and they correspond respectively to first and second function parameters. The scalar literal 3.0 is kept inline. The reduce_sum primitive has named parameters axes and input_shape, in addition to the operand e.\n",
    "\n",
    "Note that even though execution of a program that calls into JAX builds a jaxpr, Python-level control-flow and Python-level functions execute normally. This means that just because a Python program contains functions and control-flow, the resulting jaxpr does not have to contain control-flow or higher-order features."
   ]
  },
  {
   "cell_type": "code",
   "execution_count": null,
   "id": "131c0067-674f-4a1b-8bc3-6be36874ee92",
   "metadata": {},
   "outputs": [],
   "source": []
  }
 ],
 "metadata": {
  "kernelspec": {
   "display_name": "Python 3 (ipykernel)",
   "language": "python",
   "name": "python3"
  },
  "language_info": {
   "codemirror_mode": {
    "name": "ipython",
    "version": 3
   },
   "file_extension": ".py",
   "mimetype": "text/x-python",
   "name": "python",
   "nbconvert_exporter": "python",
   "pygments_lexer": "ipython3",
   "version": "3.8.10"
  }
 },
 "nbformat": 4,
 "nbformat_minor": 5
}
