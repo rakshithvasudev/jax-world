{
 "cells": [
  {
   "cell_type": "markdown",
   "id": "dea3c1e8-700f-4877-90f9-7f369d9ec941",
   "metadata": {},
   "source": [
    "# Automatic differentiation with JAX"
   ]
  },
  {
   "cell_type": "code",
   "execution_count": 3,
   "id": "ae5bad68-300a-4c12-b4e9-ffc6f9397dfd",
   "metadata": {},
   "outputs": [],
   "source": [
    "import jax\n",
    "import jax.numpy as jnp\n",
    "from jax import random\n",
    "from jax import grad"
   ]
  },
  {
   "cell_type": "code",
   "execution_count": 2,
   "id": "514fbbe8-37a8-467e-b6e1-738a1773c1c6",
   "metadata": {},
   "outputs": [],
   "source": [
    "def f(x):\n",
    "    if x > 0:\n",
    "        return 2*x**3\n",
    "    else:\n",
    "        return 3 * x"
   ]
  },
  {
   "cell_type": "code",
   "execution_count": 6,
   "id": "4e276aea-0813-4328-9b2d-36d63e24c942",
   "metadata": {},
   "outputs": [
    {
     "data": {
      "text/plain": [
       "DeviceArray(-0.20584226, dtype=float32)"
      ]
     },
     "execution_count": 6,
     "metadata": {},
     "output_type": "execute_result"
    }
   ],
   "source": [
    "key = random.PRNGKey(0)\n",
    "\n",
    "# Sample standard normal random values with given shape and float dtype.\n",
    "x = random.normal(key, ())\n",
    "x"
   ]
  },
  {
   "cell_type": "code",
   "execution_count": 11,
   "id": "bb061325-a4e2-4085-8d54-c90664678e89",
   "metadata": {},
   "outputs": [],
   "source": [
    "# First order derivative\n",
    "\n",
    "# 2*3*x**2 if x > 0\n",
    "# 3.0 if x < o"
   ]
  },
  {
   "cell_type": "code",
   "execution_count": 7,
   "id": "4abc44bd-9a04-47df-84bc-5be551319c4b",
   "metadata": {},
   "outputs": [
    {
     "name": "stdout",
     "output_type": "stream",
     "text": [
      "3.0\n",
      "0.2542262\n"
     ]
    }
   ],
   "source": [
    "print(grad(f)(x))\n",
    "print(grad(f)(-x))"
   ]
  },
  {
   "cell_type": "code",
   "execution_count": null,
   "id": "37cb109d-1abc-46a0-babb-cdaed5fd1877",
   "metadata": {},
   "outputs": [],
   "source": [
    "# second order derivative\n",
    "\n",
    "# 2*3*2*x if x > 0\n",
    "# 0 if x < o\n",
    "\n",
    "# third order derivative \n",
    "# 2*3*2 = 12.0 if x > 0\n",
    "# 0 if x < 0"
   ]
  },
  {
   "cell_type": "code",
   "execution_count": 10,
   "id": "cddb75fa-9332-4ed5-8e0e-d6cbee076cfa",
   "metadata": {},
   "outputs": [
    {
     "name": "stdout",
     "output_type": "stream",
     "text": [
      "2.470107\n",
      "12.0\n"
     ]
    }
   ],
   "source": [
    "print(grad(grad(f))(-x))\n",
    "print(grad(grad(grad(f)))(-x))"
   ]
  },
  {
   "cell_type": "markdown",
   "id": "1771029c-6175-4e2c-9dae-0c8a20690efe",
   "metadata": {},
   "source": [
    "## Other JAX autodiff highlights:\n",
    "\n",
    "<ul>\n",
    "    <li>Forward- and reverse-mode, totally composable</li>\n",
    "    <li>Fast Jacobians and Hessians </li>\n",
    "    <li>Complex number support (holomorphic and non-holomorphic) </li>\n",
    "    <li>Jacobian pre-accumulation for elementwise operations (like gelu) </li>\n",
    "</ul>"
   ]
  },
  {
   "cell_type": "code",
   "execution_count": 15,
   "id": "607cfa9e-683a-40ea-b01e-d1efaad7ab18",
   "metadata": {},
   "outputs": [
    {
     "name": "stdout",
     "output_type": "stream",
     "text": [
      "0.070650935\n"
     ]
    }
   ],
   "source": [
    "grad_tanh = grad(jnp.tanh)\n",
    "print(grad_tanh(2.0))"
   ]
  },
  {
   "cell_type": "code",
   "execution_count": 16,
   "id": "4aac26fb-9f46-47fb-9d45-11d2841e3d07",
   "metadata": {},
   "outputs": [
    {
     "name": "stdout",
     "output_type": "stream",
     "text": [
      "-0.13621888\n",
      "0.2526544\n"
     ]
    }
   ],
   "source": [
    "print(grad(grad(jnp.tanh))(2.0))\n",
    "print(grad(grad(grad(jnp.tanh)))(2.0))"
   ]
  },
  {
   "cell_type": "code",
   "execution_count": 17,
   "id": "f67e283d-f4ce-436b-a741-6ccded96ea4b",
   "metadata": {},
   "outputs": [],
   "source": [
    "# Logistic Regression model \n",
    "def sigmoid(x):\n",
    "    return 0.5 * (jnp.tanh(x / 2) + 1)\n",
    "\n",
    "# Outputs probability of a label being true.\n",
    "def predict(W, b, inputs):\n",
    "    return sigmoid(jnp.dot(inputs, W) + b)\n",
    "\n",
    "\n",
    "# Build a toy dataset.\n",
    "inputs = jnp.array([[0.52, 1.12,  0.77],\n",
    "                   [0.88, -1.08, 0.15],\n",
    "                   [0.52, 0.06, -1.30],\n",
    "                   [0.74, -2.49, 1.39]])\n",
    "targets = jnp.array([True, True, False, True])\n",
    "\n",
    "\n",
    "\n",
    "# Training loss is the negative log-likelihood of the training examples.\n",
    "def loss(W, b):\n",
    "    preds = predict(W, b, inputs)\n",
    "    label_probs = preds * targets + (1 - preds) * (1 - targets)\n",
    "    return -jnp.sum(jnp.log(label_probs))\n",
    "\n",
    "\n",
    "# Initialize random model coefficients\n",
    "key, W_key, b_key = random.split(key, 3)\n",
    "W = random.normal(W_key, (3,))\n",
    "b = random.normal(b_key, ())"
   ]
  },
  {
   "cell_type": "markdown",
   "id": "04fca2f6-6f8b-48eb-b055-139419adba79",
   "metadata": {},
   "source": [
    "## Use the `grad` function with its `argnums` argument to differentiate a function with respect to positional arguments."
   ]
  },
  {
   "cell_type": "code",
   "execution_count": 18,
   "id": "89732c30-5024-4147-b8be-41290c6857f6",
   "metadata": {},
   "outputs": [
    {
     "name": "stdout",
     "output_type": "stream",
     "text": [
      "W_grad [-0.16965583 -0.8774647  -1.4901344 ]\n",
      "W_grad [-0.16965583 -0.8774647  -1.4901344 ]\n",
      "b_grad -0.29227248\n",
      "W_grad [-0.16965583 -0.8774647  -1.4901344 ]\n",
      "b_grad -0.29227248\n"
     ]
    }
   ],
   "source": [
    "# Differentiate `loss` with respect to the first positional argument:\n",
    "W_grad = grad(loss, argnums=0)(W, b)\n",
    "print('W_grad', W_grad)\n",
    "\n",
    "# Since argnums=0 is the default, this does the same thing:\n",
    "W_grad = grad(loss)(W, b)\n",
    "print('W_grad', W_grad)\n",
    "\n",
    "# But we can choose different values too, and drop the keyword:\n",
    "b_grad = grad(loss, 1)(W, b)\n",
    "print('b_grad', b_grad)\n",
    "\n",
    "# Including tuple values\n",
    "W_grad, b_grad = grad(loss, (0, 1))(W, b)\n",
    "print('W_grad', W_grad)\n",
    "print('b_grad', b_grad)"
   ]
  },
  {
   "cell_type": "code",
   "execution_count": 19,
   "id": "d813ed25-5143-4bc3-a140-63bb89c74478",
   "metadata": {},
   "outputs": [
    {
     "name": "stdout",
     "output_type": "stream",
     "text": [
      "{'W': DeviceArray([-0.16965583, -0.8774647 , -1.4901344 ], dtype=float32), 'b': DeviceArray(-0.29227248, dtype=float32)}\n"
     ]
    }
   ],
   "source": [
    "def loss2(params_dict):\n",
    "    preds = predict(params_dict['W'], params_dict['b'], inputs)\n",
    "    label_probs = preds * targets + (1 - preds) * (1 - targets)\n",
    "    return -jnp.sum(jnp.log(label_probs))\n",
    "\n",
    "print(grad(loss2)({'W': W, 'b': b}))"
   ]
  },
  {
   "cell_type": "markdown",
   "id": "0cad7a5e-9676-4176-8064-400609d36b10",
   "metadata": {},
   "source": [
    "# Hessian-vector products with grad-of-grad\n"
   ]
  },
  {
   "cell_type": "code",
   "execution_count": 22,
   "id": "20badecf-18fb-4bbe-a32c-6ae5f4fad8b9",
   "metadata": {},
   "outputs": [
    {
     "data": {
      "text/html": [
       "<img src=\"images/hessianvector.PNG\" width=\"800\" height=\"400\"/>"
      ],
      "text/plain": [
       "<IPython.core.display.Image object>"
      ]
     },
     "execution_count": 22,
     "metadata": {},
     "output_type": "execute_result"
    }
   ],
   "source": [
    "from IPython.display import Image\n",
    "Image(url=\"images/hessianvector.PNG\", width=800, height=400)\n"
   ]
  },
  {
   "cell_type": "code",
   "execution_count": 23,
   "id": "dae51eeb-2901-4e3d-af8c-afba22b4a7bf",
   "metadata": {},
   "outputs": [],
   "source": [
    "def hvp(f, x, v):\n",
    "    return grad(lambda x: jnp.vdot(grad(f)(x), v))(x)"
   ]
  },
  {
   "cell_type": "code",
   "execution_count": 24,
   "id": "c47ff7d3-8254-417c-8b06-36a736d47924",
   "metadata": {},
   "outputs": [
    {
     "name": "stdout",
     "output_type": "stream",
     "text": [
      "jacfwd result, with shape (4, 3)\n",
      "[[ 0.05981982  0.12885131  0.08857825]\n",
      " [ 0.04015379 -0.04928978  0.00684642]\n",
      " [ 0.12188746  0.01406284 -0.30466145]\n",
      " [ 0.00140473 -0.00472568  0.00263711]]\n",
      "jacrev result, with shape (4, 3)\n",
      "[[ 0.05981756  0.12883782  0.088576  ]\n",
      " [ 0.04015914 -0.04928622  0.00684531]\n",
      " [ 0.12188289  0.01406341 -0.3047072 ]\n",
      " [ 0.00140429 -0.00472523  0.00263778]]\n"
     ]
    }
   ],
   "source": [
    "from jax import jacfwd, jacrev\n",
    "\n",
    "# Isolate the function from the weight matrix to the predictions\n",
    "f = lambda W: predict(W, b, inputs)\n",
    "\n",
    "J = jacfwd(f)(W)\n",
    "print(\"jacfwd result, with shape\", J.shape)\n",
    "print(J)\n",
    "\n",
    "J = jacrev(f)(W)\n",
    "print(\"jacrev result, with shape\", J.shape)\n",
    "print(J)"
   ]
  },
  {
   "cell_type": "code",
   "execution_count": 25,
   "id": "6a83d80c-fe70-4ae4-8a72-899a05ed748c",
   "metadata": {},
   "outputs": [
    {
     "name": "stdout",
     "output_type": "stream",
     "text": [
      "hessian, with shape (4, 3, 3)\n",
      "[[[ 0.02285551  0.04923055  0.03384332]\n",
      "  [ 0.04922726  0.10603505  0.07289331]\n",
      "  [ 0.03384374  0.07289909  0.05011415]]\n",
      "\n",
      " [[-0.03194788  0.03921682 -0.00544727]\n",
      "  [ 0.03920877 -0.04812973  0.00668529]\n",
      "  [-0.00544566  0.00668469 -0.00092851]]\n",
      "\n",
      " [[-0.01583768 -0.00182728  0.03958676]\n",
      "  [-0.00182742 -0.00021084  0.0045677 ]\n",
      "  [ 0.03959419  0.0045682  -0.09896691]]\n",
      "\n",
      " [[-0.00103555  0.0034837  -0.00194404]\n",
      "  [ 0.00348448 -0.01172219  0.00654144]\n",
      "  [-0.00194515  0.00654371 -0.00365165]]]\n"
     ]
    }
   ],
   "source": [
    "def hessian(f):\n",
    "    return jacfwd(jacrev(f))\n",
    "\n",
    "H = hessian(f)(W)\n",
    "print(\"hessian, with shape\", H.shape)\n",
    "print(H)"
   ]
  },
  {
   "cell_type": "markdown",
   "id": "f2532e5f-5517-4aa5-b3aa-081e402659a3",
   "metadata": {},
   "source": [
    "# JVPs in JAX code - forward mode autodiff\n",
    "\n",
    "\n"
   ]
  },
  {
   "cell_type": "code",
   "execution_count": 26,
   "id": "407112a7-8d3f-43e7-91c8-d49d781c8561",
   "metadata": {},
   "outputs": [],
   "source": [
    "from jax import jvp\n",
    "\n",
    "# Isolate the function from the weight matrix to the predictions\n",
    "f = lambda W: predict(W, b, inputs)\n",
    "\n",
    "key, subkey = random.split(key)\n",
    "v = random.normal(subkey, W.shape)\n",
    "\n",
    "# Push forward the vector `v` along `f` evaluated at `W`\n",
    "y, u = jvp(f, (W,), (v,))"
   ]
  },
  {
   "cell_type": "code",
   "execution_count": 32,
   "id": "c32de185-505e-414e-8894-ebe40e527668",
   "metadata": {},
   "outputs": [
    {
     "data": {
      "text/plain": [
       "(DeviceArray([0.13262251, 0.952067  , 0.6249393 , 0.99809873], dtype=float32),\n",
       " DeviceArray([-0.6668207 ,  0.36615133,  0.35238004, -0.10669762], dtype=float32))"
      ]
     },
     "execution_count": 32,
     "metadata": {},
     "output_type": "execute_result"
    }
   ],
   "source": [
    "y, u"
   ]
  },
  {
   "cell_type": "markdown",
   "id": "e1a71ecd-4edc-4bf8-8351-ae2ce0a8d309",
   "metadata": {},
   "source": [
    "# VJPs in JAX code - reverse mode autodiff"
   ]
  },
  {
   "cell_type": "code",
   "execution_count": 30,
   "id": "78161040-9a41-4e7e-ad2a-21855b922a20",
   "metadata": {},
   "outputs": [],
   "source": [
    "from jax import vjp\n",
    "\n",
    "# Isolate the function from the weight matrix to the predictions\n",
    "f = lambda W: predict(W, b, inputs)\n",
    "\n",
    "y, vjp_fun = vjp(f, W)\n",
    "\n",
    "key, subkey = random.split(key)\n",
    "u = random.normal(subkey, y.shape)\n",
    "\n",
    "# Pull back the covector `u` along `f` evaluated at `W`\n",
    "v = vjp_fun(u)"
   ]
  },
  {
   "cell_type": "code",
   "execution_count": 31,
   "id": "077a4a5b-d0ce-4036-aa96-33e65e26e30a",
   "metadata": {},
   "outputs": [
    {
     "data": {
      "text/plain": [
       "(DeviceArray([ 0.01761599, -0.09849812, -0.16421208], dtype=float32),)"
      ]
     },
     "execution_count": 31,
     "metadata": {},
     "output_type": "execute_result"
    }
   ],
   "source": [
    "v"
   ]
  },
  {
   "cell_type": "markdown",
   "id": "a0230b80-15c5-42e0-ba8f-81b3a35f75cb",
   "metadata": {},
   "source": [
    "\n",
    "Refer here for more: \n",
    "https://jax.readthedocs.io/en/latest/notebooks/autodiff_cookbook.html\n",
    "https://github.com/google/jax/blob/main/cloud_tpu_colabs/JAX_NeurIPS_2020_demo.ipynb"
   ]
  },
  {
   "cell_type": "code",
   "execution_count": null,
   "id": "e574c5fd-c8f9-48bd-92b2-702fe7cf34aa",
   "metadata": {},
   "outputs": [],
   "source": []
  }
 ],
 "metadata": {
  "kernelspec": {
   "display_name": "Python 3 (ipykernel)",
   "language": "python",
   "name": "python3"
  },
  "language_info": {
   "codemirror_mode": {
    "name": "ipython",
    "version": 3
   },
   "file_extension": ".py",
   "mimetype": "text/x-python",
   "name": "python",
   "nbconvert_exporter": "python",
   "pygments_lexer": "ipython3",
   "version": "3.8.10"
  }
 },
 "nbformat": 4,
 "nbformat_minor": 5
}
