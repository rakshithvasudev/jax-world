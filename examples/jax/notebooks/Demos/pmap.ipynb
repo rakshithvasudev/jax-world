{
 "cells": [
  {
   "cell_type": "markdown",
   "id": "98bdfa34-4727-438f-9405-48b138cff15d",
   "metadata": {},
   "source": [
    "# Parallel accelerators with pmap\n"
   ]
  },
  {
   "cell_type": "code",
   "execution_count": 1,
   "id": "b1b18d45-80fc-4104-99f8-d6eebf4b29f7",
   "metadata": {
    "tags": []
   },
   "outputs": [],
   "source": [
    "import jax\n",
    "import jax.numpy as jnp\n",
    "from jax import random\n",
    "\n",
    "key = random.PRNGKey(0)"
   ]
  },
  {
   "cell_type": "code",
   "execution_count": 2,
   "id": "de2fe37b-6c29-4379-b8a8-604f27fc7d87",
   "metadata": {},
   "outputs": [
    {
     "data": {
      "text/plain": [
       "[GpuDevice(id=0, process_index=0),\n",
       " GpuDevice(id=1, process_index=0),\n",
       " GpuDevice(id=2, process_index=0),\n",
       " GpuDevice(id=3, process_index=0)]"
      ]
     },
     "execution_count": 2,
     "metadata": {},
     "output_type": "execute_result"
    }
   ],
   "source": [
    "jax.devices()"
   ]
  },
  {
   "cell_type": "code",
   "execution_count": 3,
   "id": "be61f878-9203-46d0-87db-c3488fd0fb26",
   "metadata": {},
   "outputs": [],
   "source": [
    "from jax import pmap"
   ]
  },
  {
   "cell_type": "code",
   "execution_count": 5,
   "id": "2fe0d978-f50b-4402-b197-2c038b8351ca",
   "metadata": {},
   "outputs": [
    {
     "name": "stdout",
     "output_type": "stream",
     "text": [
      "[0 1 4 9]\n"
     ]
    }
   ],
   "source": [
    "y = pmap(lambda x: x ** 2)(jnp.arange(4))\n",
    "print(y)\n"
   ]
  },
  {
   "cell_type": "code",
   "execution_count": 6,
   "id": "84c78569-c566-45fa-8aee-6b05574b76e2",
   "metadata": {},
   "outputs": [
    {
     "name": "stdout",
     "output_type": "stream",
     "text": [
      "[0.  0.5 2.  4.5]\n"
     ]
    }
   ],
   "source": [
    "z = y / 2\n",
    "print(z)\n"
   ]
  },
  {
   "cell_type": "code",
   "execution_count": 7,
   "id": "ddc35428-aeb7-49e6-80f4-52918ff50700",
   "metadata": {},
   "outputs": [
    {
     "data": {
      "text/plain": [
       "[<matplotlib.lines.Line2D at 0x7ffaeded8f70>]"
      ]
     },
     "execution_count": 7,
     "metadata": {},
     "output_type": "execute_result"
    },
    {
     "data": {
      "image/png": "[encoded data removed]",
      "text/plain": [
       "<Figure size 432x288 with 1 Axes>"
      ]
     },
     "metadata": {
      "needs_background": "light"
     },
     "output_type": "display_data"
    }
   ],
   "source": [
    "import matplotlib.pyplot as plt\n",
    "plt.plot(y)"
   ]
  },
  {
   "cell_type": "code",
   "execution_count": 9,
   "id": "5696c1f9-df19-4dc2-a0f7-ef130ed7d768",
   "metadata": {},
   "outputs": [
    {
     "name": "stdout",
     "output_type": "stream",
     "text": [
      "[-0.008041   -0.0026529   0.00090758 -0.01222017]\n"
     ]
    }
   ],
   "source": [
    "keys = random.split(random.PRNGKey(0), 4)\n",
    "mats = pmap(lambda key: random.normal(key, (5000, 5000)))(keys)\n",
    "result = pmap(jnp.dot)(mats, mats)\n",
    "print(pmap(jnp.mean)(result))"
   ]
  },
  {
   "cell_type": "code",
   "execution_count": 10,
   "id": "544901b1-8a8b-43be-856a-216a2c4a731f",
   "metadata": {},
   "outputs": [
    {
     "name": "stdout",
     "output_type": "stream",
     "text": [
      "2.74 ms ± 33 µs per loop (mean ± std. dev. of 5 runs, 5 loops each)\n"
     ]
    }
   ],
   "source": [
    "timeit -n 5 -r 5 pmap(jnp.dot)(mats, mats).block_until_ready()\n"
   ]
  },
  {
   "cell_type": "code",
   "execution_count": null,
   "id": "e07b6903-fb39-4cc0-9700-301d0a1a8d6f",
   "metadata": {},
   "outputs": [],
   "source": []
  }
 ],
 "metadata": {
  "kernelspec": {
   "display_name": "Python 3 (ipykernel)",
   "language": "python",
   "name": "python3"
  },
  "language_info": {
   "codemirror_mode": {
    "name": "ipython",
    "version": 3
   },
   "file_extension": ".py",
   "mimetype": "text/x-python",
   "name": "python",
   "nbconvert_exporter": "python",
   "pygments_lexer": "ipython3",
   "version": "3.8.10"
  }
 },
 "nbformat": 4,
 "nbformat_minor": 5
}
