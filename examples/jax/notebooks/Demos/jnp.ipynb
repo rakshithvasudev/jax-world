{
 "cells": [
  {
   "cell_type": "markdown",
   "id": "72ad14a6-696e-48d0-b4ba-f6d08128556b",
   "metadata": {},
   "source": [
    "# JAX Numpy => JNP (lax backed)"
   ]
  },
  {
   "cell_type": "code",
   "execution_count": 1,
   "id": "bb94d3e9-eb1d-4cb9-8f9d-6c45692944fa",
   "metadata": {},
   "outputs": [],
   "source": [
    "import jax\n",
    "import jax.numpy as jnp\n",
    "from jax import random"
   ]
  },
  {
   "cell_type": "code",
   "execution_count": 2,
   "id": "6078e77c-27dd-46ee-a251-49546346b49d",
   "metadata": {},
   "outputs": [
    {
     "name": "stdout",
     "output_type": "stream",
     "text": [
      "(5000, 5000)\n",
      "float32\n"
     ]
    }
   ],
   "source": [
    "key = random.PRNGKey(0)\n",
    "key, subkey = random.split(key)\n",
    "x = random.normal(key, (5000, 5000))\n",
    "\n",
    "print(x.shape)\n",
    "print(x.dtype)"
   ]
  },
  {
   "cell_type": "code",
   "execution_count": 3,
   "id": "5f830268-d19c-4cc7-81c8-caef5bf8a868",
   "metadata": {},
   "outputs": [
    {
     "name": "stdout",
     "output_type": "stream",
     "text": [
      "63.82817\n"
     ]
    }
   ],
   "source": [
    "y = jnp.dot(x, x)\n",
    "print(y[0, 0])"
   ]
  },
  {
   "cell_type": "code",
   "execution_count": 4,
   "id": "060dc086-b2db-4e40-9f9d-9a6081617617",
   "metadata": {},
   "outputs": [
    {
     "data": {
      "text/plain": [
       "DeviceArray([[-0.03182802,  0.05624727, -0.03447726, ..., -0.6506611 ,\n",
       "               0.188141  , -0.4943332 ],\n",
       "             [-0.46550497,  1.034583  , -1.0246143 , ...,  0.7965949 ,\n",
       "               1.5315311 , -0.1446576 ],\n",
       "             [ 0.4603889 ,  1.2810655 ,  0.1406628 , ..., -0.03909646,\n",
       "               1.2251557 ,  1.9469196 ],\n",
       "             ...,\n",
       "             [-0.1792087 ,  0.12796777, -1.2290448 , ...,  0.07305165,\n",
       "              -0.7417593 ,  0.84448427],\n",
       "             [ 0.06088204, -0.359062  , -0.0271101 , ..., -0.78110397,\n",
       "               0.5980011 ,  0.30552095],\n",
       "             [-1.2617211 ,  1.0971762 , -0.18960644, ..., -0.7506782 ,\n",
       "               0.08892686, -1.4386775 ]], dtype=float32)"
      ]
     },
     "execution_count": 4,
     "metadata": {},
     "output_type": "execute_result"
    }
   ],
   "source": [
    "x"
   ]
  },
  {
   "cell_type": "code",
   "execution_count": 5,
   "id": "74039128-808a-4194-bd83-883b62561cb9",
   "metadata": {},
   "outputs": [
    {
     "data": {
      "text/plain": [
       "[<matplotlib.lines.Line2D at 0x7ffaee0a01c0>]"
      ]
     },
     "execution_count": 5,
     "metadata": {},
     "output_type": "execute_result"
    },
    {
     "data": {
      "image/png": "[encoded data removed]",
      "text/plain": [
       "<Figure size 432x288 with 1 Axes>"
      ]
     },
     "metadata": {
      "needs_background": "light"
     },
     "output_type": "display_data"
    }
   ],
   "source": [
    "import matplotlib.pyplot as plt\n",
    "\n",
    "plt.plot(x[0])"
   ]
  },
  {
   "cell_type": "code",
   "execution_count": 6,
   "id": "07256964-5988-4b22-a028-d6b89fc2a384",
   "metadata": {},
   "outputs": [
    {
     "name": "stdout",
     "output_type": "stream",
     "text": [
      "[[ 5.0231143e+03 -3.1962633e+01 -4.6788857e+01 ...  1.6453232e+01\n",
      "   2.3000103e+01  2.8942369e+01]\n",
      " [-3.1962633e+01  4.8936460e+03  1.9905313e+01 ...  8.0806206e+01\n",
      "  -3.6203564e+01 -1.2045704e+00]\n",
      " [-4.6788857e+01  1.9905313e+01  4.9168413e+03 ... -1.1356275e+01\n",
      "  -1.4244254e+02  9.2606316e+01]\n",
      " ...\n",
      " [ 1.6453232e+01  8.0806206e+01 -1.1356275e+01 ...  5.0156406e+03\n",
      "   3.2550369e+01 -8.2916573e+01]\n",
      " [ 2.3000103e+01 -3.6203564e+01 -1.4244254e+02 ...  3.2550369e+01\n",
      "   5.0410088e+03  1.3218843e+01]\n",
      " [ 2.8942369e+01 -1.2045704e+00  9.2606316e+01 ... -8.2916573e+01\n",
      "   1.3218843e+01  5.0226338e+03]]\n"
     ]
    }
   ],
   "source": [
    "print(jnp.dot(x, x.T))\n"
   ]
  },
  {
   "cell_type": "code",
   "execution_count": 7,
   "id": "3a1855fe-ba17-4e0f-b381-f2bbfad9fd88",
   "metadata": {},
   "outputs": [
    {
     "name": "stdout",
     "output_type": "stream",
     "text": [
      "[[[  -7.3726435 -265.24042    181.95457   ...   50.78956     52.270565\n",
      "    127.65634  ]]\n",
      "\n",
      " [[ -14.697224   134.9537     181.26367   ...  -69.47163    148.67259\n",
      "     51.27031  ]]\n",
      "\n",
      " [[   5.730926  -152.30022     98.68247   ... -181.2178     317.64774\n",
      "     -5.8901734]]\n",
      "\n",
      " [[  -7.3726435 -265.24042    181.95457   ...   50.78956     52.270565\n",
      "    127.65634  ]]]\n"
     ]
    }
   ],
   "source": [
    "print(jnp.dot(x, 2 * x)[[0, 2, 1, 0], ..., None, ::-1])\n"
   ]
  },
  {
   "cell_type": "markdown",
   "id": "094f4215-e61e-4613-bbde-f8dae0a70787",
   "metadata": {},
   "source": [
    "# milli benchmarks  ;)"
   ]
  },
  {
   "cell_type": "code",
   "execution_count": 8,
   "id": "2eda422f-211a-471e-a41e-e0ef7867a7d7",
   "metadata": {},
   "outputs": [
    {
     "name": "stdout",
     "output_type": "stream",
     "text": [
      "219 ms ± 6.08 ms per loop (mean ± std. dev. of 2 runs, 5 loops each)\n"
     ]
    }
   ],
   "source": [
    "import numpy as np\n",
    "\n",
    "x_cpu = np.array(x)\n",
    "%timeit -n 5 -r 2 np.dot(x_cpu, x_cpu)\n"
   ]
  },
  {
   "cell_type": "code",
   "execution_count": 9,
   "id": "d2b163df-c95d-449a-925b-9fd867a2d801",
   "metadata": {},
   "outputs": [
    {
     "name": "stdout",
     "output_type": "stream",
     "text": [
      "2.54 ms ± 13.1 µs per loop (mean ± std. dev. of 5 runs, 5 loops each)\n"
     ]
    }
   ],
   "source": [
    "%timeit -n 5 -r 5 jnp.dot(x, x).block_until_ready()"
   ]
  },
  {
   "cell_type": "code",
   "execution_count": null,
   "id": "61b1378d-2cfa-46ec-a0f5-c566d6f74dd4",
   "metadata": {},
   "outputs": [],
   "source": []
  }
 ],
 "metadata": {
  "kernelspec": {
   "display_name": "Python 3 (ipykernel)",
   "language": "python",
   "name": "python3"
  },
  "language_info": {
   "codemirror_mode": {
    "name": "ipython",
    "version": 3
   },
   "file_extension": ".py",
   "mimetype": "text/x-python",
   "name": "python",
   "nbconvert_exporter": "python",
   "pygments_lexer": "ipython3",
   "version": "3.8.10"
  }
 },
 "nbformat": 4,
 "nbformat_minor": 5
}
