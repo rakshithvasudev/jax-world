{
 "cells": [
  {
   "cell_type": "markdown",
   "id": "6d768346-1e4b-4da0-ba92-aaf85b9be9b4",
   "metadata": {},
   "source": [
    "# Jaxpr = limited higher order features"
   ]
  },
  {
   "cell_type": "markdown",
   "id": "713c7385-2b9e-486f-9bf0-57301f90f116",
   "metadata": {},
   "source": [
    "jaxpr ::= { lambda Var* ; Var+.\n",
    "            let Eqn*\n",
    "            in  [Expr+] }\n",
    "            \n",
    "            \n",
    "Where: \n",
    "\n",
    "The parameters of the jaxpr are shown as two lists of variables separated by ;. The first set of variables are the ones that have been introduced to stand for constants that have been hoisted out. These are called the constvars, and in a jax.core.ClosedJaxpr the consts field holds corresponding values. The second list of variables, called invars, correspond to the inputs of the traced Python function.\n",
    "\n",
    "Eqn* is a list of equations, defining intermediate variables referring to intermediate expressions. Each equation defines one or more variables as the result of applying a primitive on some atomic expressions. Each equation uses only input variables and intermediate variables defined by previous equations.\n",
    "\n",
    "Expr+: is a list of output atomic expressions (literals or variables) for the jaxpr."
   ]
  },
  {
   "cell_type": "code",
   "execution_count": 3,
   "id": "dd79ae6b-1a32-4067-872b-bcc11234ebfc",
   "metadata": {},
   "outputs": [],
   "source": [
    "from jax import make_jaxpr\n",
    "import jax.numpy as jnp"
   ]
  },
  {
   "cell_type": "code",
   "execution_count": 4,
   "id": "6792873e-1df2-49d9-94da-f7260f876cd7",
   "metadata": {},
   "outputs": [],
   "source": [
    "def func1(first, second):\n",
    "    temp = first + jnp.sin(second) * 3.\n",
    "    return jnp.sum(temp)"
   ]
  },
  {
   "cell_type": "code",
   "execution_count": 5,
   "id": "545755b1-4881-4c13-99ca-ccf4d8deca09",
   "metadata": {},
   "outputs": [
    {
     "data": {
      "text/plain": [
       "{ lambda  ; a b.\n",
       "  let c = sin b\n",
       "      d = mul c 3.0\n",
       "      e = add a d\n",
       "      f = reduce_sum[ axes=(0,) ] e\n",
       "  in (f,) }"
      ]
     },
     "execution_count": 5,
     "metadata": {},
     "output_type": "execute_result"
    }
   ],
   "source": [
    "make_jaxpr(func1)(jnp.zeros(8), jnp.ones(8))"
   ]
  },
  {
   "cell_type": "markdown",
   "id": "aa444f75-dc4d-4ca8-afdc-96d67d97815e",
   "metadata": {},
   "source": [
    "Here there are no constvars, a and b are the input variables and they correspond respectively to first and second function parameters. The scalar literal 3.0 is kept inline. The reduce_sum primitive has named parameters axes and input_shape, in addition to the operand e.\n",
    "\n",
    "Note that even though execution of a program that calls into JAX builds a jaxpr, Python-level control-flow and Python-level functions execute normally. This means that just because a Python program contains functions and control-flow, the resulting jaxpr does not have to contain control-flow or higher-order features."
   ]
  },
  {
   "cell_type": "code",
   "execution_count": 6,
   "id": "131c0067-674f-4a1b-8bc3-6be36874ee92",
   "metadata": {},
   "outputs": [
    {
     "data": {
      "text/plain": [
       "{ lambda  ; a b.\n",
       "  let c = sin b\n",
       "      d = mul c 3.0\n",
       "      e = add a d\n",
       "      f = reduce_sum[ axes=(0,) ] e\n",
       "  in (f,) }"
      ]
     },
     "execution_count": 6,
     "metadata": {},
     "output_type": "execute_result"
    }
   ],
   "source": [
    "make_jaxpr(func1)(jnp.zeros(5), jnp.ones(5))"
   ]
  },
  {
   "cell_type": "code",
   "execution_count": 7,
   "id": "ae0c27e9-0820-47cd-bffc-4b053479045a",
   "metadata": {},
   "outputs": [],
   "source": [
    "def func2(inner, first, second):\n",
    "    temp = first + inner(second) * 3\n",
    "    return jnp.sum(temp)"
   ]
  },
  {
   "cell_type": "code",
   "execution_count": 8,
   "id": "219d656f-1b83-498d-b585-af5e6d43c6ca",
   "metadata": {},
   "outputs": [],
   "source": [
    "def inner(second):\n",
    "    if second.shape[0] > 4:\n",
    "        return jnp.sin(second)\n",
    "    else:\n",
    "        assert False"
   ]
  },
  {
   "cell_type": "code",
   "execution_count": 10,
   "id": "65996703-a2e5-42e6-bba3-90abfce71008",
   "metadata": {},
   "outputs": [],
   "source": [
    "def func3(first, second):\n",
    "    return func2(inner, first, second)"
   ]
  },
  {
   "cell_type": "code",
   "execution_count": 13,
   "id": "40445c92-8a6f-4608-b8ef-246c9a9a1839",
   "metadata": {},
   "outputs": [
    {
     "name": "stdout",
     "output_type": "stream",
     "text": [
      "{ lambda  ; a b.\n",
      "  let c = sin b\n",
      "      d = mul c 3.0\n",
      "      e = add a d\n",
      "      f = reduce_sum[ axes=(0,) ] e\n",
      "  in (f,) }\n"
     ]
    }
   ],
   "source": [
    "print(make_jaxpr(func3)(jnp.zeros(8), jnp.ones(8)))"
   ]
  },
  {
   "cell_type": "code",
   "execution_count": 1,
   "id": "1993eaac-c538-4b0d-8d2c-9bc2cb7cd979",
   "metadata": {},
   "outputs": [],
   "source": [
    "from jax import lax\n",
    "\n",
    "def one_of_three(index, arg):\n",
    "    return lax.switch(index, [lambda x: x+1.,\n",
    "                              lambda x: x -2.,\n",
    "                              lambda x: x + 3.],\n",
    "                      arg)\n"
   ]
  },
  {
   "cell_type": "code",
   "execution_count": 4,
   "id": "d889b658-75c2-4627-9133-67f5c7eb4939",
   "metadata": {},
   "outputs": [
    {
     "name": "stdout",
     "output_type": "stream",
     "text": [
      "{ lambda  ; a b.\n",
      "  let c = convert_element_type[ new_dtype=int32\n",
      "                                weak_type=False ] a\n",
      "      d = clamp 0 c 2\n",
      "      e = cond[ branches=( { lambda  ; a.\n",
      "                             let b = add a 1.0\n",
      "                             in (b,) }\n",
      "                           { lambda  ; a.\n",
      "                             let b = sub a 2.0\n",
      "                             in (b,) }\n",
      "                           { lambda  ; a.\n",
      "                             let b = add a 3.0\n",
      "                             in (b,) } )\n",
      "                linear=(False,) ] d b\n",
      "  in (e,) }\n"
     ]
    }
   ],
   "source": [
    "print(make_jaxpr(one_of_three)(1, 5.))"
   ]
  },
  {
   "cell_type": "markdown",
   "id": "6f0ca5a3-a21b-4b71-90bf-23a04d6b6c05",
   "metadata": {},
   "source": [
    "The cond primitive has a number of parameters:\n",
    "\n",
    "branches are jaxprs that correspond to the branch functionals. In this example, those functionals each take one input variable, corresponding to x.\n",
    "\n",
    "linear is a tuple of booleans that is used internally by the auto-differentiation machinery to encode which of the input parameters are used linearly in the conditional.\n",
    "\n",
    "The above instance of the cond primitive takes two operands. The first one (d) is the branch index, then b is the operand (arg) to be passed to whichever jaxpr in branches is selected by the branch index.\n",
    "\n"
   ]
  },
  {
   "cell_type": "code",
   "execution_count": null,
   "id": "c1530bdc-e7bf-4add-aa04-65af9a729cf7",
   "metadata": {},
   "outputs": [],
   "source": []
  }
 ],
 "metadata": {
  "kernelspec": {
   "display_name": "Python 3 (ipykernel)",
   "language": "python",
   "name": "python3"
  },
  "language_info": {
   "codemirror_mode": {
    "name": "ipython",
    "version": 3
   },
   "file_extension": ".py",
   "mimetype": "text/x-python",
   "name": "python",
   "nbconvert_exporter": "python",
   "pygments_lexer": "ipython3",
   "version": "3.8.10"
  }
 },
 "nbformat": 4,
 "nbformat_minor": 5
}
